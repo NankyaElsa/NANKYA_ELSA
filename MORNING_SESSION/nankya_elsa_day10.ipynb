{
 "cells": [
  {
   "cell_type": "code",
   "execution_count": null,
   "metadata": {},
   "outputs": [],
   "source": [
    "\"\"\"\n",
    "k_range = range[1, 11]\n",
    "\n",
    "# classification using support vector classifier\n",
    "\n",
    "from sklearn.svm import svc\n",
    "\n",
    "svc_linear = SVC[kernel = 'linear']\n",
    "svc_linear.fit(x_train_scaled, y_train)\n",
    "svc_linear.score[]\n",
    "\n",
    "Machine learning\n",
    "Data can be split into three categories\n",
    "numerical, categorical and ordinal\n",
    "\n",
    "\"\"\""
   ]
  }
 ],
 "metadata": {
  "language_info": {
   "name": "python"
  }
 },
 "nbformat": 4,
 "nbformat_minor": 2
}
