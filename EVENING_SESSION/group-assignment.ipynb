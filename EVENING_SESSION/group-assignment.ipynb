{
 "cells": [
  {
   "cell_type": "code",
   "execution_count": 1,
   "metadata": {},
   "outputs": [
    {
     "name": "stdout",
     "output_type": "stream",
     "text": [
      "    Duration         Date  Pulse  Maxpulse  Calories\n",
      "0         60  2023/10/01'  110.0     130.0     409.1\n",
      "1         60  2023/10/02'  117.0     145.0     479.0\n",
      "2         60  2023/10/03'  103.0     135.0     340.3\n",
      "3         45  2023/10/04'  109.0     175.0     282.4\n",
      "4         45  2023/10/05'  117.0     150.0     405.1\n",
      "5         60  2023/10/06'  103.0     125.0     300.0\n",
      "6         60  2023/10/07'  110.0     135.0     374.0\n",
      "7        400  2023/10/08'  114.0     133.0       NaN\n",
      "8         60  2023/10/09'  112.0     126.0     193.8\n",
      "9         30  2023/10/10'  102.0     147.0     234.8\n",
      "10        60  2023/10/11'  100.0     129.0     375.3\n",
      "11        60  2023/10/12'  109.0     131.0     345.6\n",
      "12        60  2023/10/13'  103.0     136.0     239.2\n",
      "13        60  2023/10/15'  120.0       NaN     240.8\n",
      "14        60  2023/10/15'  120.0     100.0     240.8\n",
      "15        60  2023/10/16'    NaN     101.0     243.8\n",
      "16        60  2023/10/17'  127.0     102.0     380.2\n",
      "17        45     20231018  142.0     103.0     241.4\n",
      "18        60  2023/10/19'  151.0     104.0       NaN\n",
      "19        60  2023/10/20'  162.0     105.0     300.9\n",
      "20        60  2023/10/21'  100.0     106.0     280.0\n",
      "21        60  2023/10/22'  103.0     107.0       NaN\n",
      "22        60          NaN  130.0     108.0     230.8\n",
      "23        60  2023/10/24'  134.0       NaN     239.7\n",
      "24        60  2023/10/25'  132.0     110.0     236.9\n",
      "25        60  2023/10/26'  135.0     118.0     278.8\n",
      "26        60  2023/10/27'  137.0     119.0     212.9\n",
      "27        60  2023/10/28'  138.0     121.0     345.9\n",
      "28        60  2023/10/29'  139.0     122.0     345.2\n",
      "29        60          NaN   92.0     125.0     380.5\n",
      "30        60  2023/10/31'   94.0     126.0       NaN\n"
     ]
    }
   ],
   "source": [
    "import pandas as pd\n",
    "\n",
    "# Load the dataset\n",
    "df = pd.read_csv(\"Mine.csv\")\n",
    "print(df)"
   ]
  },
  {
   "cell_type": "code",
   "execution_count": 22,
   "metadata": {},
   "outputs": [
    {
     "name": "stdout",
     "output_type": "stream",
     "text": [
      "<class 'pandas.core.frame.DataFrame'>\n",
      "RangeIndex: 31 entries, 0 to 30\n",
      "Data columns (total 5 columns):\n",
      " #   Column    Non-Null Count  Dtype  \n",
      "---  ------    --------------  -----  \n",
      " 0   Duration  31 non-null     int64  \n",
      " 1   Date      29 non-null     object \n",
      " 2   Pulse     30 non-null     float64\n",
      " 3   Maxpulse  29 non-null     float64\n",
      " 4   Calories  27 non-null     float64\n",
      "dtypes: float64(3), int64(1), object(1)\n",
      "memory usage: 1.3+ KB\n",
      "None\n"
     ]
    }
   ],
   "source": [
    "# know what we are working with\n",
    "print(df.info())"
   ]
  },
  {
   "cell_type": "code",
   "execution_count": 3,
   "metadata": {},
   "outputs": [
    {
     "name": "stdout",
     "output_type": "stream",
     "text": [
      "Duration    0\n",
      "Date        2\n",
      "Pulse       1\n",
      "Maxpulse    2\n",
      "Calories    4\n",
      "dtype: int64\n"
     ]
    }
   ],
   "source": [
    "# checking for missing values/empty cells\n",
    "print(df.isnull().sum())"
   ]
  },
  {
   "cell_type": "code",
   "execution_count": 6,
   "metadata": {},
   "outputs": [
    {
     "name": "stdout",
     "output_type": "stream",
     "text": [
      "    Duration         Date  Pulse  Maxpulse  Calories\n",
      "0         60  2023/10/01'  110.0     130.0     409.1\n",
      "1         60  2023/10/02'  117.0     145.0     479.0\n",
      "2         60  2023/10/03'  103.0     135.0     340.3\n",
      "3         45  2023/10/04'  109.0     175.0     282.4\n",
      "4         45  2023/10/05'  117.0     150.0     405.1\n",
      "5         60  2023/10/06'  103.0     125.0     300.0\n",
      "6         60  2023/10/07'  110.0     135.0     374.0\n",
      "7        400  2023/10/08'  114.0     133.0     240.8\n",
      "8         60  2023/10/09'  112.0     126.0     193.8\n",
      "9         30  2023/10/10'  102.0     147.0     234.8\n",
      "10        60  2023/10/11'  100.0     129.0     375.3\n",
      "11        60  2023/10/12'  109.0     131.0     345.6\n",
      "12        60  2023/10/13'  103.0     136.0     239.2\n",
      "13        60  2023/10/15'  120.0     125.0     240.8\n",
      "14        60  2023/10/15'  120.0     100.0     240.8\n",
      "15        60  2023/10/16'  103.0     101.0     243.8\n",
      "16        60  2023/10/17'  127.0     102.0     380.2\n",
      "17        45     20231018  142.0     103.0     241.4\n",
      "18        60  2023/10/19'  151.0     104.0     240.8\n",
      "19        60  2023/10/20'  162.0     105.0     300.9\n",
      "20        60  2023/10/21'  100.0     106.0     280.0\n",
      "21        60  2023/10/22'  103.0     107.0     240.8\n",
      "22        60          NaN  130.0     108.0     230.8\n",
      "23        60  2023/10/24'  134.0     125.0     239.7\n",
      "24        60  2023/10/25'  132.0     110.0     236.9\n",
      "25        60  2023/10/26'  135.0     118.0     278.8\n",
      "26        60  2023/10/27'  137.0     119.0     212.9\n",
      "27        60  2023/10/28'  138.0     121.0     345.9\n",
      "28        60  2023/10/29'  139.0     122.0     345.2\n",
      "29        60          NaN   92.0     125.0     380.5\n",
      "30        60  2023/10/31'   94.0     126.0     240.8\n"
     ]
    }
   ],
   "source": [
    "# Handling missing values by filling with the mode and droppping dropping\n",
    "# Drop rows where all elements are missing\n",
    "df = df.dropna(how='all')\n",
    "\n",
    "# Fill NaN numeric values with the mode\n",
    "df['Pulse'] = df['Pulse'].fillna(df['Pulse'].mode()[0])\n",
    "\n",
    "df['Maxpulse'] = df['Maxpulse'].fillna(df['Maxpulse'].mode()[0])\n",
    "\n",
    "df['Calories'] = df['Calories'].fillna(df['Calories'].mode()[0])\n",
    "\n",
    "#fill all numerical columns\n",
    "# df = df.fillna(df.mode()[0])\n",
    "\n",
    "print(df)"
   ]
  },
  {
   "cell_type": "code",
   "execution_count": 25,
   "metadata": {},
   "outputs": [
    {
     "name": "stdout",
     "output_type": "stream",
     "text": [
      "Duration    0\n",
      "Date        2\n",
      "Pulse       0\n",
      "Maxpulse    0\n",
      "Calories    0\n",
      "dtype: int64\n"
     ]
    }
   ],
   "source": [
    "# Checking for missing values again\n",
    "print(df.isnull().sum())"
   ]
  },
  {
   "cell_type": "code",
   "execution_count": 26,
   "metadata": {},
   "outputs": [
    {
     "name": "stdout",
     "output_type": "stream",
     "text": [
      "0\n"
     ]
    }
   ],
   "source": [
    "# checking for duplicates\n",
    "print(df.duplicated().sum())"
   ]
  },
  {
   "cell_type": "code",
   "execution_count": 27,
   "metadata": {},
   "outputs": [
    {
     "name": "stdout",
     "output_type": "stream",
     "text": [
      "Duration      int64\n",
      "Date         object\n",
      "Pulse       float64\n",
      "Maxpulse    float64\n",
      "Calories    float64\n",
      "dtype: object\n"
     ]
    }
   ],
   "source": [
    "#Checking for wrong format\n",
    "print(df.dtypes)"
   ]
  },
  {
   "cell_type": "code",
   "execution_count": 28,
   "metadata": {},
   "outputs": [
    {
     "name": "stdout",
     "output_type": "stream",
     "text": [
      "[\"2023/10/01'\" \"2023/10/02'\" \"2023/10/03'\" \"2023/10/04'\" \"2023/10/05'\"\n",
      " \"2023/10/06'\" \"2023/10/07'\" \"2023/10/08'\" \"2023/10/09'\" \"2023/10/10'\"\n",
      " \"2023/10/11'\" \"2023/10/12'\" \"2023/10/13'\" \"2023/10/15'\" \"2023/10/16'\"\n",
      " \"2023/10/17'\" '20231018' \"2023/10/19'\" \"2023/10/20'\" \"2023/10/21'\"\n",
      " \"2023/10/22'\" nan \"2023/10/24'\" \"2023/10/25'\" \"2023/10/26'\" \"2023/10/27'\"\n",
      " \"2023/10/28'\" \"2023/10/29'\" \"2023/10/31'\"]\n"
     ]
    }
   ],
   "source": [
    "# Check for wrong data\n",
    "print(df['Date'].unique())"
   ]
  },
  {
   "cell_type": "code",
   "execution_count": 29,
   "metadata": {},
   "outputs": [
    {
     "name": "stdout",
     "output_type": "stream",
     "text": [
      "Duration    0\n",
      "Date        2\n",
      "Pulse       0\n",
      "Maxpulse    0\n",
      "Calories    0\n",
      "dtype: int64\n"
     ]
    }
   ],
   "source": [
    "# Checking for missing values again\n",
    "print(df.isnull().sum())"
   ]
  },
  {
   "cell_type": "code",
   "execution_count": 30,
   "metadata": {},
   "outputs": [],
   "source": [
    "\n",
    "# Normalize date format\n",
    "df['Date'] = pd.to_datetime(df['Date'].str.replace(\"'\", \"\"), errors='coerce')\n",
    "\n"
   ]
  },
  {
   "cell_type": "code",
   "execution_count": 31,
   "metadata": {},
   "outputs": [
    {
     "name": "stdout",
     "output_type": "stream",
     "text": [
      "    Duration Date  Pulse  Maxpulse  Calories\n",
      "17        45  NaT  142.0     103.0     241.4\n",
      "22        60  NaT  130.0     108.0     230.8\n",
      "29        60  NaT   92.0     125.0     380.5\n"
     ]
    }
   ],
   "source": [
    "# Identify and handle any remaining non-parsable dates\n",
    "non_parsable_dates = df[df['Date'].isnull()]\n",
    "print(non_parsable_dates)"
   ]
  },
  {
   "cell_type": "code",
   "execution_count": 32,
   "metadata": {},
   "outputs": [],
   "source": [
    "# Drop rows with non-parsable dates\n",
    "df.dropna(subset=['Date'], inplace=True)"
   ]
  },
  {
   "cell_type": "code",
   "execution_count": 33,
   "metadata": {},
   "outputs": [
    {
     "name": "stdout",
     "output_type": "stream",
     "text": [
      "Duration    0\n",
      "Date        0\n",
      "Pulse       0\n",
      "Maxpulse    0\n",
      "Calories    0\n",
      "dtype: int64\n"
     ]
    }
   ],
   "source": [
    "print(df.isnull().sum())"
   ]
  },
  {
   "cell_type": "code",
   "execution_count": 34,
   "metadata": {},
   "outputs": [
    {
     "name": "stdout",
     "output_type": "stream",
     "text": [
      "   Duration       Date  Pulse  Maxpulse  Calories\n",
      "0        60 2023-10-01  110.0     130.0     409.1\n",
      "1        60 2023-10-02  117.0     145.0     479.0\n",
      "2        60 2023-10-03  103.0     135.0     340.3\n",
      "3        45 2023-10-04  109.0     175.0     282.4\n",
      "4        45 2023-10-05  117.0     150.0     405.1\n",
      "\n",
      "\n",
      "<class 'pandas.core.frame.DataFrame'>\n",
      "Index: 28 entries, 0 to 30\n",
      "Data columns (total 5 columns):\n",
      " #   Column    Non-Null Count  Dtype         \n",
      "---  ------    --------------  -----         \n",
      " 0   Duration  28 non-null     int64         \n",
      " 1   Date      28 non-null     datetime64[ns]\n",
      " 2   Pulse     28 non-null     float64       \n",
      " 3   Maxpulse  28 non-null     float64       \n",
      " 4   Calories  28 non-null     float64       \n",
      "dtypes: datetime64[ns](1), float64(3), int64(1)\n",
      "memory usage: 1.3 KB\n",
      "None\n",
      "\n",
      "\n",
      "         Duration                           Date       Pulse    Maxpulse  \\\n",
      "count   28.000000                             28   28.000000   28.000000   \n",
      "mean    70.000000  2023-10-15 05:08:34.285714176  118.000000  124.571429   \n",
      "min     30.000000            2023-10-01 00:00:00   94.000000  100.000000   \n",
      "25%     60.000000            2023-10-07 18:00:00  103.000000  109.250000   \n",
      "50%     60.000000            2023-10-15 00:00:00  113.000000  125.000000   \n",
      "75%     60.000000            2023-10-22 12:00:00  132.500000  133.500000   \n",
      "max    400.000000            2023-10-31 00:00:00  162.000000  175.000000   \n",
      "std     65.021364                            NaN   17.219713   17.276463   \n",
      "\n",
      "         Calories  \n",
      "count   28.000000  \n",
      "mean   295.989286  \n",
      "min    193.800000  \n",
      "25%    240.800000  \n",
      "50%    279.400000  \n",
      "75%    345.675000  \n",
      "max    479.000000  \n",
      "std     71.943230  \n"
     ]
    }
   ],
   "source": [
    "# Display the cleaned dataset\n",
    "print(df.head())\n",
    "print('\\n')\n",
    "print(df.info())\n",
    "print('\\n')\n",
    "print(df.describe())"
   ]
  },
  {
   "cell_type": "code",
   "execution_count": 35,
   "metadata": {},
   "outputs": [
    {
     "name": "stdout",
     "output_type": "stream",
     "text": [
      "    Duration       Date  Pulse  Maxpulse  Calories\n",
      "0         60 2023-10-01  110.0     130.0     409.1\n",
      "1         60 2023-10-02  117.0     145.0     479.0\n",
      "2         60 2023-10-03  103.0     135.0     340.3\n",
      "3         45 2023-10-04  109.0     175.0     282.4\n",
      "4         45 2023-10-05  117.0     150.0     405.1\n",
      "5         60 2023-10-06  103.0     125.0     300.0\n",
      "6         60 2023-10-07  110.0     135.0     374.0\n",
      "7        400 2023-10-08  114.0     133.0     240.8\n",
      "8         60 2023-10-09  112.0     126.0     193.8\n",
      "9         30 2023-10-10  102.0     147.0     234.8\n",
      "10        60 2023-10-11  100.0     129.0     375.3\n",
      "11        60 2023-10-12  109.0     131.0     345.6\n",
      "12        60 2023-10-13  103.0     136.0     239.2\n",
      "13        60 2023-10-15  120.0     125.0     240.8\n",
      "14        60 2023-10-15  120.0     100.0     240.8\n",
      "15        60 2023-10-16  103.0     101.0     243.8\n",
      "16        60 2023-10-17  127.0     102.0     380.2\n",
      "18        60 2023-10-19  151.0     104.0     240.8\n",
      "19        60 2023-10-20  162.0     105.0     300.9\n",
      "20        60 2023-10-21  100.0     106.0     280.0\n",
      "21        60 2023-10-22  103.0     107.0     240.8\n",
      "23        60 2023-10-24  134.0     125.0     239.7\n",
      "24        60 2023-10-25  132.0     110.0     236.9\n",
      "25        60 2023-10-26  135.0     118.0     278.8\n",
      "26        60 2023-10-27  137.0     119.0     212.9\n",
      "27        60 2023-10-28  138.0     121.0     345.9\n",
      "28        60 2023-10-29  139.0     122.0     345.2\n",
      "30        60 2023-10-31   94.0     126.0     240.8\n"
     ]
    }
   ],
   "source": [
    "print(df)"
   ]
  },
  {
   "cell_type": "code",
   "execution_count": 8,
   "metadata": {},
   "outputs": [],
   "source": [
    "# Save the cleaned dataset\n",
    "cleaned_file_path = 'Cleaned_Mine.csv'\n",
    "df.to_csv(cleaned_file_path, index=False)"
   ]
  },
  {
   "cell_type": "code",
   "execution_count": null,
   "metadata": {},
   "outputs": [],
   "source": []
  },
  {
   "cell_type": "code",
   "execution_count": 114,
   "metadata": {},
   "outputs": [
    {
     "name": "stdout",
     "output_type": "stream",
     "text": [
      "   Order ID  Customer Name   Order Date   Product  Quantity  Unit Price  Total Revenue\n",
      "0      1001       John Doe   01/01/2024  Widget A      10.0        25.0          250.0\n",
      "1      1002     Jane Smith   01/02/2024  Widget B       5.0        40.0          200.0\n",
      "2      1003            NaN  2024/01/03'  Widget A       NaN        25.0            NaN\n",
      "3      1004  Alice Johnson   04/01/2024  Widget C       3.0         NaN          210.0\n",
      "4      1005      Bob Brown  2024/01/05'  Widget B      10.0        40.0          400.0\n",
      "5      1006       John Doe   06/01/2024  Widget A       4.0        25.0          100.0\n",
      "6      1001       John Doe   01/01/2024  Widget A      10.0        25.0          250.0\n",
      "7      1007     Jane Smith   07/01/2024  Widget C      -6.0        70.0         -420.0\n"
     ]
    }
   ],
   "source": [
    "# DATASET 2\n",
    "\n",
    "data = pd.read_csv('Sales.csv')\n",
    "print(data.to_string())"
   ]
  },
  {
   "cell_type": "code",
   "execution_count": 115,
   "metadata": {},
   "outputs": [
    {
     "name": "stdout",
     "output_type": "stream",
     "text": [
      "Order ID         0\n",
      "Customer Name    1\n",
      "Order Date       0\n",
      "Product          0\n",
      "Quantity         1\n",
      "Unit Price       1\n",
      "Total Revenue    1\n",
      "dtype: int64\n"
     ]
    }
   ],
   "source": [
    "# check for null values\n",
    "print(data.isna().sum())"
   ]
  },
  {
   "cell_type": "code",
   "execution_count": 116,
   "metadata": {},
   "outputs": [
    {
     "name": "stdout",
     "output_type": "stream",
     "text": [
      "1\n"
     ]
    }
   ],
   "source": [
    "# checking for duplicates\n",
    "print(data.duplicated().sum())"
   ]
  },
  {
   "cell_type": "code",
   "execution_count": 118,
   "metadata": {},
   "outputs": [],
   "source": [
    "# drop the duplicates\n",
    "data.drop_duplicates(inplace=True)"
   ]
  },
  {
   "cell_type": "code",
   "execution_count": 119,
   "metadata": {},
   "outputs": [
    {
     "name": "stdout",
     "output_type": "stream",
     "text": [
      "0\n"
     ]
    }
   ],
   "source": [
    "# check again for duplicates\n",
    "print(data.duplicated().sum())"
   ]
  },
  {
   "cell_type": "code",
   "execution_count": 120,
   "metadata": {},
   "outputs": [
    {
     "name": "stdout",
     "output_type": "stream",
     "text": [
      "   Order ID  Customer Name   Order Date   Product  Quantity  Unit Price  Total Revenue\n",
      "0      1001       John Doe   01/01/2024  Widget A      10.0        25.0          250.0\n",
      "1      1002     Jane Smith   01/02/2024  Widget B       5.0        40.0          200.0\n",
      "3      1004  Alice Johnson   04/01/2024  Widget C       3.0         NaN          210.0\n",
      "4      1005      Bob Brown  2024/01/05'  Widget B      10.0        40.0          400.0\n",
      "5      1006       John Doe   06/01/2024  Widget A       4.0        25.0          100.0\n",
      "7      1007     Jane Smith   07/01/2024  Widget C      -6.0        70.0         -420.0\n"
     ]
    }
   ],
   "source": [
    "# dropping the row with an empty name \n",
    "data.dropna(subset=['Customer Name'], inplace=True)\n",
    "\n",
    "# check if it dropped\n",
    "print(data.to_string())\n"
   ]
  },
  {
   "cell_type": "code",
   "execution_count": 121,
   "metadata": {},
   "outputs": [
    {
     "name": "stdout",
     "output_type": "stream",
     "text": [
      "Order ID           int64\n",
      "Customer Name     object\n",
      "Order Date        object\n",
      "Product           object\n",
      "Quantity         float64\n",
      "Unit Price       float64\n",
      "Total Revenue    float64\n",
      "dtype: object\n"
     ]
    }
   ],
   "source": [
    "# Check for wrong data\n",
    "\n",
    "#Checking for wrong format\n",
    "print(data.dtypes)"
   ]
  },
  {
   "cell_type": "code",
   "execution_count": 122,
   "metadata": {},
   "outputs": [
    {
     "name": "stdout",
     "output_type": "stream",
     "text": [
      "   Order ID  Customer Name   Order Date   Product  Quantity  Unit Price  Total Revenue\n",
      "0      1001       John Doe   01/01/2024  Widget A      10.0        25.0          250.0\n",
      "1      1002     Jane Smith   01/02/2024  Widget B       5.0        40.0          200.0\n",
      "3      1004  Alice Johnson   04/01/2024  Widget C       3.0         NaN          210.0\n",
      "4      1005      Bob Brown  2024/01/05'  Widget B      10.0        40.0          400.0\n",
      "5      1006       John Doe   06/01/2024  Widget A       4.0        25.0          100.0\n",
      "7      1007     Jane Smith   07/01/2024  Widget C       6.0        70.0          420.0\n"
     ]
    }
   ],
   "source": [
    "# negative values\n",
    "\n",
    "# Example: Correcting a specific column's values\n",
    "data['Quantity'] = data['Quantity'].apply(lambda x: abs(x))\n",
    "\n",
    "data['Total Revenue'] = data['Total Revenue'].apply(lambda x: abs(x))\n",
    "\n",
    "# check if they are still\n",
    "print(data.to_string())"
   ]
  },
  {
   "cell_type": "code",
   "execution_count": 129,
   "metadata": {},
   "outputs": [],
   "source": [
    "# Fill the missing values for unit price\n",
    "data['Unit Price'] = data.apply(\n",
    "    lambda row: row['Total Revenue'] / row['Quantity'] if pd.isnull(row['Unit Price']) else row['Unit Price'], axis=1\n",
    ")"
   ]
  },
  {
   "cell_type": "code",
   "execution_count": 130,
   "metadata": {},
   "outputs": [
    {
     "name": "stdout",
     "output_type": "stream",
     "text": [
      "['01/01/2024' '01/02/2024' '04/01/2024' '2024/01/05' '06/01/2024'\n",
      " '07/01/2024']\n"
     ]
    }
   ],
   "source": [
    "# Check for wrong data\n",
    "print(data['Order Date'].unique())"
   ]
  },
  {
   "cell_type": "code",
   "execution_count": 132,
   "metadata": {},
   "outputs": [],
   "source": [
    "data['Order Date'] = data['Order Date'].str.strip(\"'\")\n"
   ]
  },
  {
   "cell_type": "code",
   "execution_count": 126,
   "metadata": {},
   "outputs": [
    {
     "name": "stdout",
     "output_type": "stream",
     "text": [
      "['01/01/2024' '01/02/2024' '04/01/2024' '2024/01/05' '06/01/2024'\n",
      " '07/01/2024']\n"
     ]
    }
   ],
   "source": [
    "print(data['Order Date'].unique())"
   ]
  },
  {
   "cell_type": "code",
   "execution_count": 133,
   "metadata": {},
   "outputs": [
    {
     "name": "stdout",
     "output_type": "stream",
     "text": [
      "   Order ID  Customer Name  Order Date   Product  Quantity  Unit Price  Total Revenue\n",
      "0      1001       John Doe  01/01/2024  Widget A      10.0        25.0          250.0\n",
      "1      1002     Jane Smith  01/02/2024  Widget B       5.0        40.0          200.0\n",
      "3      1004  Alice Johnson  04/01/2024  Widget C       3.0        70.0          210.0\n",
      "4      1005      Bob Brown  2024/01/05  Widget B      10.0        40.0          400.0\n",
      "5      1006       John Doe  06/01/2024  Widget A       4.0        25.0          100.0\n",
      "7      1007     Jane Smith  07/01/2024  Widget C       6.0        70.0          420.0\n"
     ]
    }
   ],
   "source": [
    "print(data.to_string())"
   ]
  },
  {
   "cell_type": "code",
   "execution_count": 134,
   "metadata": {},
   "outputs": [],
   "source": [
    "# Save the cleaned dataset\n",
    "data.to_csv('Cleaned_Sales.csv', index=False)"
   ]
  }
 ],
 "metadata": {
  "kernelspec": {
   "display_name": "Python 3",
   "language": "python",
   "name": "python3"
  },
  "language_info": {
   "codemirror_mode": {
    "name": "ipython",
    "version": 3
   },
   "file_extension": ".py",
   "mimetype": "text/x-python",
   "name": "python",
   "nbconvert_exporter": "python",
   "pygments_lexer": "ipython3",
   "version": "3.12.2"
  }
 },
 "nbformat": 4,
 "nbformat_minor": 2
}
