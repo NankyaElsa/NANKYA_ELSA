{
 "cells": [
  {
   "cell_type": "code",
   "execution_count": 42,
   "id": "72ddda29-252a-47c4-b601-8ae1a7bf6d2e",
   "metadata": {},
   "outputs": [],
   "source": [
    "#step 1: import necessary libraries\n",
    "import numpy as np\n",
    "import pandas as pd\n",
    "import seaborn as sns\n",
    "import matplotlib.pyplot as plt\n"
   ]
  },
  {
   "cell_type": "code",
   "execution_count": 43,
   "id": "d85baad7",
   "metadata": {},
   "outputs": [
    {
     "name": "stdout",
     "output_type": "stream",
     "text": [
      "   number_siblings                   name  gender  age living_allowance  \\\n",
      "0                1     Nakasujja Gertrude  female   33              NaN   \n",
      "1                3  Arinda Asiimwe Atweta  female   23           50,000   \n",
      "2                4    Ndjekornom Victoire    male   23           25,000   \n",
      "3                0         KATURAMU EDGAR    male   27          500,000   \n",
      "4                4      Abinsinguza Lasse    male   24          100,000   \n",
      "\n",
      "   have_bf_gf                profession  daily_meals  \n",
      "0           1            Data Scientist            2  \n",
      "1           1  Machine Learning Enginer            1  \n",
      "2           0            Data Scientist            1  \n",
      "3           0  Machine Learning Enginer            2  \n",
      "4           1            Data Scientist            2  \n"
     ]
    }
   ],
   "source": [
    "#step 2 : Load data set\n",
    "\n",
    "data = pd.read_csv(\"bse_data.csv\")\n",
    "\n",
    "#display first row of the dataframe\n",
    "print(data.head(5))"
   ]
  },
  {
   "cell_type": "code",
   "execution_count": 44,
   "id": "5a85228b",
   "metadata": {},
   "outputs": [
    {
     "name": "stdout",
     "output_type": "stream",
     "text": [
      "<class 'pandas.core.frame.DataFrame'>\n",
      "RangeIndex: 36 entries, 0 to 35\n",
      "Data columns (total 8 columns):\n",
      " #   Column            Non-Null Count  Dtype \n",
      "---  ------            --------------  ----- \n",
      " 0   number_siblings   36 non-null     int64 \n",
      " 1   name              36 non-null     object\n",
      " 2   gender            36 non-null     object\n",
      " 3   age               36 non-null     int64 \n",
      " 4   living_allowance  29 non-null     object\n",
      " 5   have_bf_gf        36 non-null     int64 \n",
      " 6   profession        36 non-null     object\n",
      " 7   daily_meals       36 non-null     int64 \n",
      "dtypes: int64(4), object(4)\n",
      "memory usage: 2.4+ KB\n",
      "None\n"
     ]
    }
   ],
   "source": [
    "# Step3: Data cleaning and pre-processing\n",
    "\"\"\"\n",
    "Things to look out for in data cleaning and pre-processing\n",
    "1. Incosistent data types\n",
    "2. Wrong data format\n",
    "3. Duplicates\n",
    "4. Missing values\n",
    "\n",
    "\"\"\"\n",
    "# 1. Check for incosistent data types\n",
    "print(data.info())"
   ]
  },
  {
   "cell_type": "code",
   "execution_count": 45,
   "id": "4e10121b",
   "metadata": {},
   "outputs": [
    {
     "name": "stdout",
     "output_type": "stream",
     "text": [
      "number_siblings       int64\n",
      "name                 object\n",
      "gender               object\n",
      "age                   int64\n",
      "living_allowance    float64\n",
      "have_bf_gf            int64\n",
      "profession           object\n",
      "daily_meals           int64\n",
      "dtype: object\n"
     ]
    }
   ],
   "source": [
    "# From the output above, all the values in the columns have similar data types depending on the column meaning\n",
    "# there is no incosistent data type\n",
    "\n",
    "# 2. Check for Wrong data format and solve it\n",
    "# Depending on the output above, column living_allowance is of type string(object) yet it is supposed to be in  \n",
    "# numeric format preferably float format for proper calculations.\n",
    "\n",
    "\n",
    "# Convert living_allowance into a float format\n",
    "# data[\"living_allowance\"] = pd.to_numeric(data[\"living_allowance\"], errors = \"coerce\").astype(float)\n",
    "\n",
    "# We replace the comma first because if we dont, an error occurs as we convert the string (living_allowance ) to float, hence the \n",
    "# errors =\"coerce\" changes everything to NaN which we dont want because that is losing data to work with.\n",
    "\n",
    "data[\"living_allowance\"] = data[\"living_allowance\"].replace([\",\"], \"\", regex=True).astype(float)\n",
    "\n",
    "#check if it worked\n",
    "print(data.dtypes)"
   ]
  },
  {
   "cell_type": "code",
   "execution_count": 46,
   "id": "66b3550e",
   "metadata": {},
   "outputs": [
    {
     "name": "stdout",
     "output_type": "stream",
     "text": [
      "    number_siblings                       name  gender  age  living_allowance  \\\n",
      "0                 1         Nakasujja Gertrude  female   33               NaN   \n",
      "1                 3      Arinda Asiimwe Atweta  female   23          50000.00   \n",
      "2                 4        Ndjekornom Victoire    male   23          25000.00   \n",
      "3                 0             KATURAMU EDGAR    male   27         500000.00   \n",
      "4                 4          Abinsinguza Lasse    male   24         100000.00   \n",
      "5                 4        Beingana Jim Junior    male   20          10000.00   \n",
      "6                 6   Cyiza Ndoli Jean de Dieu    male   23          60000.00   \n",
      "7                 8        MUSIIMENTA CISSYLYN  female   20         260000.00   \n",
      "8                 2           Nakanwagu Vanesa  female   23         250000.00   \n",
      "9                 9                Otim Ronald    male   25               NaN   \n",
      "10                1                  Levi Aine    male   24        1000000.00   \n",
      "11                1              NASAAZI TAKIA  female   23           2000.00   \n",
      "12                5                      Alvin    male   23        2500000.00   \n",
      "13                3            MULINDWA YUSUF     male   22               NaN   \n",
      "14                2                     Hillal    male   32         150000.00   \n",
      "15                9           mpairwe   lauben    male   26         760000.00   \n",
      "16                4               Lutalo Allan    male   24         200000.00   \n",
      "17                2                Efrata Aron  female   22         200000.00   \n",
      "18                4                David Hope     male   22          35000.00   \n",
      "19                1             ntegeka k pius    male   30         700000.00   \n",
      "20                4            Yapyeko Rebecca  female   24         500000.00   \n",
      "21                7      NKETAMUKAMA TARASISIO    male   22         600000.00   \n",
      "22                3    Ampaire Stacey Nuwagaba  female   22         300000.00   \n",
      "23                5            Ahaabwe Derrick    male   22         200000.00   \n",
      "24                0           Ssentongo Henry     male   27               NaN   \n",
      "25                6                     Shadia  female   23          20000.00   \n",
      "26                4                     Harlan    male   24         250000.00   \n",
      "27                1              AMADILE MAJID    male   23               NaN   \n",
      "28                8                Nankya Elsa  female   23         120000.00   \n",
      "29                2         Asiimire Patricia   female   22        1000000.00   \n",
      "30                2           Rwakasiisi Edwin    male   24         150000.00   \n",
      "31                5            Ampumuza Aijuka  female   23         500000.00   \n",
      "32                5         TUKWASIIBWE MARTIN    male   23         200000.00   \n",
      "33                8       Olowo Omondi Philly     male   23               NaN   \n",
      "34                4  Kisembo Rodgers Bangirana    male   23         300000.00   \n",
      "35                3           NIWAMANYA JAMES     male   29               NaN   \n",
      "\n",
      "    have_bf_gf                profession  daily_meals  \n",
      "0            1            Data Scientist            2  \n",
      "1            1  Machine Learning Enginer            1  \n",
      "2            0            Data Scientist            1  \n",
      "3            0  Machine Learning Enginer            2  \n",
      "4            1            Data Scientist            2  \n",
      "5            0            Data Scientist            3  \n",
      "6            0              Data Analyst            2  \n",
      "7            0  Machine Learning Enginer            3  \n",
      "8            1            Data Scientist            3  \n",
      "9            0            Data Scientist            2  \n",
      "10           0            Data Scientist            3  \n",
      "11           0              Data Analyst            1  \n",
      "12           1  Machine Learning Enginer            3  \n",
      "13           0            Data Scientist            3  \n",
      "14           0  Machine Learning Enginer            2  \n",
      "15           1  Machine Learning Enginer            3  \n",
      "16           1            Data Scientist            3  \n",
      "17           1              Data Analyst            2  \n",
      "18           0  Machine Learning Enginer            3  \n",
      "19           0            Data Scientist            3  \n",
      "20           0            Data Scientist            3  \n",
      "21           0  Machine Learning Enginer            2  \n",
      "22           0              Data Analyst            2  \n",
      "23           0            Data Scientist            2  \n",
      "24           0  Machine Learning Enginer            1  \n",
      "25           0            Data Scientist            2  \n",
      "26           0            Data Scientist            3  \n",
      "27           0              Data Analyst            2  \n",
      "28           1            Data Scientist            2  \n",
      "29           0            Data Scientist            3  \n",
      "30           1            Data Scientist            3  \n",
      "31           0            Data Scientist            2  \n",
      "32           0              Data Analyst            2  \n",
      "33           1            Data Scientist            2  \n",
      "34           0              Data Analyst            3  \n",
      "35           1  Machine Learning Enginer            1  \n"
     ]
    }
   ],
   "source": [
    "# From the output above, we can see that living_allowance is now in float format\n",
    "# Lets inspect our data again to see how it looks like\n",
    "\n",
    "print(data)"
   ]
  },
  {
   "cell_type": "code",
   "execution_count": 47,
   "id": "f3af37f5",
   "metadata": {},
   "outputs": [
    {
     "name": "stdout",
     "output_type": "stream",
     "text": [
      "Duplicated rows: 0     False\n",
      "1     False\n",
      "2     False\n",
      "3     False\n",
      "4     False\n",
      "5     False\n",
      "6     False\n",
      "7     False\n",
      "8     False\n",
      "9     False\n",
      "10    False\n",
      "11    False\n",
      "12    False\n",
      "13    False\n",
      "14    False\n",
      "15    False\n",
      "16    False\n",
      "17    False\n",
      "18    False\n",
      "19    False\n",
      "20    False\n",
      "21    False\n",
      "22    False\n",
      "23    False\n",
      "24    False\n",
      "25    False\n",
      "26    False\n",
      "27    False\n",
      "28    False\n",
      "29    False\n",
      "30    False\n",
      "31    False\n",
      "32    False\n",
      "33    False\n",
      "34    False\n",
      "35    False\n",
      "dtype: bool\n"
     ]
    }
   ],
   "source": [
    "#3. Check for duplicates and drop them if any exists\n",
    "duplicates = data.duplicated()\n",
    "print(f\"Duplicated rows: {duplicates}\")"
   ]
  },
  {
   "cell_type": "code",
   "execution_count": 48,
   "id": "6242c872",
   "metadata": {},
   "outputs": [
    {
     "name": "stdout",
     "output_type": "stream",
     "text": [
      "Number of duplicated rows : 0\n"
     ]
    }
   ],
   "source": [
    "# Show the number of duplicated rows\n",
    "number_of_dupicates = data.duplicated().sum()\n",
    "print(f\"Number of duplicated rows : {number_of_dupicates}\")"
   ]
  },
  {
   "cell_type": "code",
   "execution_count": 49,
   "id": "3095ffc3",
   "metadata": {},
   "outputs": [
    {
     "name": "stdout",
     "output_type": "stream",
     "text": [
      "    number_siblings   name  gender    age  living_allowance  have_bf_gf  \\\n",
      "0             False  False   False  False              True       False   \n",
      "1             False  False   False  False             False       False   \n",
      "2             False  False   False  False             False       False   \n",
      "3             False  False   False  False             False       False   \n",
      "4             False  False   False  False             False       False   \n",
      "5             False  False   False  False             False       False   \n",
      "6             False  False   False  False             False       False   \n",
      "7             False  False   False  False             False       False   \n",
      "8             False  False   False  False             False       False   \n",
      "9             False  False   False  False              True       False   \n",
      "10            False  False   False  False             False       False   \n",
      "11            False  False   False  False             False       False   \n",
      "12            False  False   False  False             False       False   \n",
      "13            False  False   False  False              True       False   \n",
      "14            False  False   False  False             False       False   \n",
      "15            False  False   False  False             False       False   \n",
      "16            False  False   False  False             False       False   \n",
      "17            False  False   False  False             False       False   \n",
      "18            False  False   False  False             False       False   \n",
      "19            False  False   False  False             False       False   \n",
      "20            False  False   False  False             False       False   \n",
      "21            False  False   False  False             False       False   \n",
      "22            False  False   False  False             False       False   \n",
      "23            False  False   False  False             False       False   \n",
      "24            False  False   False  False              True       False   \n",
      "25            False  False   False  False             False       False   \n",
      "26            False  False   False  False             False       False   \n",
      "27            False  False   False  False              True       False   \n",
      "28            False  False   False  False             False       False   \n",
      "29            False  False   False  False             False       False   \n",
      "30            False  False   False  False             False       False   \n",
      "31            False  False   False  False             False       False   \n",
      "32            False  False   False  False             False       False   \n",
      "33            False  False   False  False              True       False   \n",
      "34            False  False   False  False             False       False   \n",
      "35            False  False   False  False              True       False   \n",
      "\n",
      "    profession  daily_meals  \n",
      "0        False        False  \n",
      "1        False        False  \n",
      "2        False        False  \n",
      "3        False        False  \n",
      "4        False        False  \n",
      "5        False        False  \n",
      "6        False        False  \n",
      "7        False        False  \n",
      "8        False        False  \n",
      "9        False        False  \n",
      "10       False        False  \n",
      "11       False        False  \n",
      "12       False        False  \n",
      "13       False        False  \n",
      "14       False        False  \n",
      "15       False        False  \n",
      "16       False        False  \n",
      "17       False        False  \n",
      "18       False        False  \n",
      "19       False        False  \n",
      "20       False        False  \n",
      "21       False        False  \n",
      "22       False        False  \n",
      "23       False        False  \n",
      "24       False        False  \n",
      "25       False        False  \n",
      "26       False        False  \n",
      "27       False        False  \n",
      "28       False        False  \n",
      "29       False        False  \n",
      "30       False        False  \n",
      "31       False        False  \n",
      "32       False        False  \n",
      "33       False        False  \n",
      "34       False        False  \n",
      "35       False        False  \n"
     ]
    }
   ],
   "source": [
    "# now that we have seen that we have no duplicates, we go to the last check\n",
    "# 4. Check for missing values\n",
    "\n",
    "missing_values = data.isnull() #have an overview\n",
    "print(missing_values)"
   ]
  },
  {
   "cell_type": "code",
   "execution_count": 50,
   "id": "1c0eea6b",
   "metadata": {},
   "outputs": [
    {
     "name": "stdout",
     "output_type": "stream",
     "text": [
      "number_siblings     0\n",
      "name                0\n",
      "gender              0\n",
      "age                 0\n",
      "living_allowance    7\n",
      "have_bf_gf          0\n",
      "profession          0\n",
      "daily_meals         0\n",
      "dtype: int64\n"
     ]
    }
   ],
   "source": [
    "\n",
    "# check for missing values in a summerised way\n",
    "number_of_missing_values = data.isnull().sum()\n",
    "print(number_of_missing_values)"
   ]
  },
  {
   "cell_type": "code",
   "execution_count": 51,
   "id": "61f6fd12",
   "metadata": {},
   "outputs": [
    {
     "name": "stdout",
     "output_type": "stream",
     "text": [
      "    number_siblings                       name  gender  age  living_allowance  \\\n",
      "0                 1         Nakasujja Gertrude  female   33         377310.34   \n",
      "1                 3      Arinda Asiimwe Atweta  female   23          50000.00   \n",
      "2                 4        Ndjekornom Victoire    male   23          25000.00   \n",
      "3                 0             KATURAMU EDGAR    male   27         500000.00   \n",
      "4                 4          Abinsinguza Lasse    male   24         100000.00   \n",
      "5                 4        Beingana Jim Junior    male   20          10000.00   \n",
      "6                 6   Cyiza Ndoli Jean de Dieu    male   23          60000.00   \n",
      "7                 8        MUSIIMENTA CISSYLYN  female   20         260000.00   \n",
      "8                 2           Nakanwagu Vanesa  female   23         250000.00   \n",
      "9                 9                Otim Ronald    male   25         377310.34   \n",
      "10                1                  Levi Aine    male   24        1000000.00   \n",
      "11                1              NASAAZI TAKIA  female   23           2000.00   \n",
      "12                5                      Alvin    male   23        2500000.00   \n",
      "13                3            MULINDWA YUSUF     male   22         377310.34   \n",
      "14                2                     Hillal    male   32         150000.00   \n",
      "15                9           mpairwe   lauben    male   26         760000.00   \n",
      "16                4               Lutalo Allan    male   24         200000.00   \n",
      "17                2                Efrata Aron  female   22         200000.00   \n",
      "18                4                David Hope     male   22          35000.00   \n",
      "19                1             ntegeka k pius    male   30         700000.00   \n",
      "20                4            Yapyeko Rebecca  female   24         500000.00   \n",
      "21                7      NKETAMUKAMA TARASISIO    male   22         600000.00   \n",
      "22                3    Ampaire Stacey Nuwagaba  female   22         300000.00   \n",
      "23                5            Ahaabwe Derrick    male   22         200000.00   \n",
      "24                0           Ssentongo Henry     male   27         377310.34   \n",
      "25                6                     Shadia  female   23          20000.00   \n",
      "26                4                     Harlan    male   24         250000.00   \n",
      "27                1              AMADILE MAJID    male   23         377310.34   \n",
      "28                8                Nankya Elsa  female   23         120000.00   \n",
      "29                2         Asiimire Patricia   female   22        1000000.00   \n",
      "30                2           Rwakasiisi Edwin    male   24         150000.00   \n",
      "31                5            Ampumuza Aijuka  female   23         500000.00   \n",
      "32                5         TUKWASIIBWE MARTIN    male   23         200000.00   \n",
      "33                8       Olowo Omondi Philly     male   23         377310.34   \n",
      "34                4  Kisembo Rodgers Bangirana    male   23         300000.00   \n",
      "35                3           NIWAMANYA JAMES     male   29         377310.34   \n",
      "\n",
      "    have_bf_gf                profession  daily_meals  \n",
      "0            1            Data Scientist            2  \n",
      "1            1  Machine Learning Enginer            1  \n",
      "2            0            Data Scientist            1  \n",
      "3            0  Machine Learning Enginer            2  \n",
      "4            1            Data Scientist            2  \n",
      "5            0            Data Scientist            3  \n",
      "6            0              Data Analyst            2  \n",
      "7            0  Machine Learning Enginer            3  \n",
      "8            1            Data Scientist            3  \n",
      "9            0            Data Scientist            2  \n",
      "10           0            Data Scientist            3  \n",
      "11           0              Data Analyst            1  \n",
      "12           1  Machine Learning Enginer            3  \n",
      "13           0            Data Scientist            3  \n",
      "14           0  Machine Learning Enginer            2  \n",
      "15           1  Machine Learning Enginer            3  \n",
      "16           1            Data Scientist            3  \n",
      "17           1              Data Analyst            2  \n",
      "18           0  Machine Learning Enginer            3  \n",
      "19           0            Data Scientist            3  \n",
      "20           0            Data Scientist            3  \n",
      "21           0  Machine Learning Enginer            2  \n",
      "22           0              Data Analyst            2  \n",
      "23           0            Data Scientist            2  \n",
      "24           0  Machine Learning Enginer            1  \n",
      "25           0            Data Scientist            2  \n",
      "26           0            Data Scientist            3  \n",
      "27           0              Data Analyst            2  \n",
      "28           1            Data Scientist            2  \n",
      "29           0            Data Scientist            3  \n",
      "30           1            Data Scientist            3  \n",
      "31           0            Data Scientist            2  \n",
      "32           0              Data Analyst            2  \n",
      "33           1            Data Scientist            2  \n",
      "34           0              Data Analyst            3  \n",
      "35           1  Machine Learning Enginer            1  \n"
     ]
    }
   ],
   "source": [
    "# From the output above, we can see that only the living_allowance column has missing values and we are going to fill them from here.\n",
    "\n",
    "# Fill the missing values in living_allowances, with the average or mean value of the living allowance.\n",
    "\n",
    "data[\"living_allowance\"] = data[\"living_allowance\"].fillna(data[\"living_allowance\"].mean())\n",
    "\n",
    "# Set pandas display options to show floats in standard decimal format\n",
    "pd.options.display.float_format = '{:.2f}'.format\n",
    "\n",
    "# see if it worked\n",
    "print(data)\n"
   ]
  },
  {
   "cell_type": "code",
   "execution_count": 52,
   "id": "58ed1b4d",
   "metadata": {},
   "outputs": [
    {
     "name": "stdout",
     "output_type": "stream",
     "text": [
      "    number_siblings                       name  gender  age  living_allowance  \\\n",
      "0                 1         Nakasujja Gertrude  female   33         377310.34   \n",
      "1                 3      Arinda Asiimwe Atweta  female   23          50000.00   \n",
      "2                 4        Ndjekornom Victoire    male   23          25000.00   \n",
      "3                 0             KATURAMU EDGAR    male   27         500000.00   \n",
      "4                 4          Abinsinguza Lasse    male   24         100000.00   \n",
      "5                 4        Beingana Jim Junior    male   20          10000.00   \n",
      "6                 6   Cyiza Ndoli Jean de Dieu    male   23          60000.00   \n",
      "7                 8        MUSIIMENTA CISSYLYN  female   20         260000.00   \n",
      "8                 2           Nakanwagu Vanesa  female   23         250000.00   \n",
      "9                 9                Otim Ronald    male   25         377310.34   \n",
      "10                1                  Levi Aine    male   24        1000000.00   \n",
      "11                1              NASAAZI TAKIA  female   23           2000.00   \n",
      "12                5                      Alvin    male   23        2500000.00   \n",
      "13                3            MULINDWA YUSUF     male   22         377310.34   \n",
      "14                2                     Hillal    male   32         150000.00   \n",
      "15                9           mpairwe   lauben    male   26         760000.00   \n",
      "16                4               Lutalo Allan    male   24         200000.00   \n",
      "17                2                Efrata Aron  female   22         200000.00   \n",
      "18                4                David Hope     male   22          35000.00   \n",
      "19                1             ntegeka k pius    male   30         700000.00   \n",
      "20                4            Yapyeko Rebecca  female   24         500000.00   \n",
      "21                7      NKETAMUKAMA TARASISIO    male   22         600000.00   \n",
      "22                3    Ampaire Stacey Nuwagaba  female   22         300000.00   \n",
      "23                5            Ahaabwe Derrick    male   22         200000.00   \n",
      "24                0           Ssentongo Henry     male   27         377310.34   \n",
      "25                6                     Shadia  female   23          20000.00   \n",
      "26                4                     Harlan    male   24         250000.00   \n",
      "27                1              AMADILE MAJID    male   23         377310.34   \n",
      "28                8                Nankya Elsa  female   23         120000.00   \n",
      "29                2         Asiimire Patricia   female   22        1000000.00   \n",
      "30                2           Rwakasiisi Edwin    male   24         150000.00   \n",
      "31                5            Ampumuza Aijuka  female   23         500000.00   \n",
      "32                5         TUKWASIIBWE MARTIN    male   23         200000.00   \n",
      "33                8       Olowo Omondi Philly     male   23         377310.34   \n",
      "34                4  Kisembo Rodgers Bangirana    male   23         300000.00   \n",
      "35                3           NIWAMANYA JAMES     male   29         377310.34   \n",
      "\n",
      "    have_bf_gf                 profession  daily_meals  \n",
      "0            1             Data Scientist            2  \n",
      "1            1  Machine Learning Engineer            1  \n",
      "2            0             Data Scientist            1  \n",
      "3            0  Machine Learning Engineer            2  \n",
      "4            1             Data Scientist            2  \n",
      "5            0             Data Scientist            3  \n",
      "6            0               Data Analyst            2  \n",
      "7            0  Machine Learning Engineer            3  \n",
      "8            1             Data Scientist            3  \n",
      "9            0             Data Scientist            2  \n",
      "10           0             Data Scientist            3  \n",
      "11           0               Data Analyst            1  \n",
      "12           1  Machine Learning Engineer            3  \n",
      "13           0             Data Scientist            3  \n",
      "14           0  Machine Learning Engineer            2  \n",
      "15           1  Machine Learning Engineer            3  \n",
      "16           1             Data Scientist            3  \n",
      "17           1               Data Analyst            2  \n",
      "18           0  Machine Learning Engineer            3  \n",
      "19           0             Data Scientist            3  \n",
      "20           0             Data Scientist            3  \n",
      "21           0  Machine Learning Engineer            2  \n",
      "22           0               Data Analyst            2  \n",
      "23           0             Data Scientist            2  \n",
      "24           0  Machine Learning Engineer            1  \n",
      "25           0             Data Scientist            2  \n",
      "26           0             Data Scientist            3  \n",
      "27           0               Data Analyst            2  \n",
      "28           1             Data Scientist            2  \n",
      "29           0             Data Scientist            3  \n",
      "30           1             Data Scientist            3  \n",
      "31           0             Data Scientist            2  \n",
      "32           0               Data Analyst            2  \n",
      "33           1             Data Scientist            2  \n",
      "34           0               Data Analyst            3  \n",
      "35           1  Machine Learning Engineer            1  \n"
     ]
    }
   ],
   "source": [
    "# Standardizing the proffession column to have the correct spelling of machine learning engineer\n",
    "\n",
    "data[\"profession\"] = data[\"profession\"].replace([\"Machine Learning Enginer\"], \"Machine Learning Engineer\")\n",
    "\n",
    "# check if it worked\n",
    "print(data)"
   ]
  },
  {
   "cell_type": "code",
   "execution_count": 53,
   "id": "c13b12de",
   "metadata": {},
   "outputs": [
    {
     "data": {
      "text/plain": [
       "'\\nSteps to follow\\n1. Group the data by gender\\n2. Select the relationship status column\\n3. Add them up to find out the number of males and females in a relationship\\n4. Make comparison\\n5.Do some visualisation\\n\\n'"
      ]
     },
     "execution_count": 53,
     "metadata": {},
     "output_type": "execute_result"
    }
   ],
   "source": [
    "# DATA MANIPULATION AND MAKING CONCLUSIONS\n",
    "\n",
    "# Now that our data set or dataframe is clean and pre-processed, we can do some amazing things with it such as making conclusions\n",
    "# depending on the data we have, derive some information from the data.\n",
    "\n",
    "# 1. Find out if there are more boys in relationships than girls or vice versa.\n",
    "\n",
    "\"\"\"\n",
    "Steps to follow\n",
    "1. Group the data by gender\n",
    "2. Select the relationship status column\n",
    "3. Add them up to find out the number of males and females in a relationship\n",
    "4. Make comparison\n",
    "5.Do some visualisation\n",
    "\n",
    "\"\"\""
   ]
  },
  {
   "cell_type": "code",
   "execution_count": 54,
   "id": "101da2b3",
   "metadata": {},
   "outputs": [
    {
     "name": "stdout",
     "output_type": "stream",
     "text": [
      "gender\n",
      "female    5\n",
      "male      7\n",
      "Name: have_bf_gf, dtype: int64\n"
     ]
    }
   ],
   "source": [
    "#1. Group the data by gender\n",
    "group_data_by_gender = data.groupby(\"gender\")\n",
    "# select the have_bf_gf column\n",
    "group_data_by_gender = data.groupby(\"gender\")[\"have_bf_gf\"]\n",
    "# Add the number of people in a relationship based on gender\n",
    "group_data_by_gender = data.groupby(\"gender\")[\"have_bf_gf\"].sum()\n",
    "\n",
    "print(group_data_by_gender)\n"
   ]
  },
  {
   "cell_type": "code",
   "execution_count": 55,
   "id": "a1ac0eb2",
   "metadata": {},
   "outputs": [
    {
     "name": "stdout",
     "output_type": "stream",
     "text": [
      "Conclusion: There are more boys in relationships than girls\n"
     ]
    }
   ],
   "source": [
    "# Make comparisons and get the conclusion\n",
    "\n",
    "\n",
    "if group_data_by_gender[\"female\"] > group_data_by_gender[\"male\"]:\n",
    "    print(\"Conclusion: There are more girls in relationships than boys\")\n",
    "elif group_data_by_gender[\"female\"] < group_data_by_gender[\"male\"]:\n",
    "    print(\"Conclusion: There are more boys in relationships than girls\")\n",
    "else:\n",
    "    print(\"Conclusion: The number of boys and girls in relationships is equal\")"
   ]
  },
  {
   "cell_type": "code",
   "execution_count": 62,
   "id": "b29c9bf8",
   "metadata": {},
   "outputs": [
    {
     "name": "stderr",
     "output_type": "stream",
     "text": [
      "C:\\Users\\DELL\\AppData\\Local\\Temp\\ipykernel_11516\\3926629204.py:11: FutureWarning: \n",
      "\n",
      "Passing `palette` without assigning `hue` is deprecated and will be removed in v0.14.0. Assign the `x` variable to `hue` and set `legend=False` for the same effect.\n",
      "\n",
      "  sns.barplot(x=\"gender\", y=\"have_bf_gf\", data=group_data_by_gender_df, palette=\"viridis\")\n"
     ]
    },
    {
     "data": {
      "image/png": "[encoded data removed]",
      "text/plain": [
       "<Figure size 800x400 with 1 Axes>"
      ]
     },
     "metadata": {},
     "output_type": "display_data"
    }
   ],
   "source": [
    "# VISUALISATIONS\n",
    "# Do some visualisations\n",
    "# plot the number of people in relations, sum against gender(plot for both genders)\n",
    "\n",
    "#step 1: Change the group_data_by_gender serie into a data frame for easy plotting\n",
    "\n",
    "group_data_by_gender_df = group_data_by_gender.reset_index()  #the gender index becomes a column\n",
    "\n",
    "#step 2: plot the bar graph/plot using seaborn\n",
    "plt.figure(figsize=(8,4))\n",
    "sns.barplot(x=\"gender\", y=\"have_bf_gf\", data=group_data_by_gender_df, palette=\"viridis\")\n",
    "\n",
    "#step 3: Add titles and labels\n",
    "plt.title(\"Number of people in a relationship by gender\")\n",
    "plt.xlabel(\"Gender\")\n",
    "plt.ylabel(\"Number of people in relationships\")\n",
    "\n",
    "#step 4: Display the plot or bar graph\n",
    "plt.show()\n"
   ]
  },
  {
   "cell_type": "code",
   "execution_count": 64,
   "id": "9ee9c416",
   "metadata": {},
   "outputs": [
    {
     "data": {
      "image/png": "[encoded data removed]",
      "text/plain": [
       "<Figure size 500x500 with 1 Axes>"
      ]
     },
     "metadata": {},
     "output_type": "display_data"
    }
   ],
   "source": [
    "# plot a pie chart now\n",
    "plt.figure(figsize=(5,5))\n",
    "plt.pie(group_data_by_gender, labels= group_data_by_gender.index, autopct=\"%1.1f%%\", colors=['#ff9999','#66b3ff'], startangle=90)\n",
    "\n",
    "# set titles\n",
    "plt.title('Percentage of People in Relationships by Gender')\n",
    "plt.axis('equal')\n",
    "\n",
    "# show the pie chart\n",
    "plt.show()"
   ]
  }
 ],
 "metadata": {
  "kernelspec": {
   "display_name": "Python 3",
   "language": "python",
   "name": "python3"
  },
  "language_info": {
   "codemirror_mode": {
    "name": "ipython",
    "version": 3
   },
   "file_extension": ".py",
   "mimetype": "text/x-python",
   "name": "python",
   "nbconvert_exporter": "python",
   "pygments_lexer": "ipython3",
   "version": "3.12.2"
  }
 },
 "nbformat": 4,
 "nbformat_minor": 5
}
