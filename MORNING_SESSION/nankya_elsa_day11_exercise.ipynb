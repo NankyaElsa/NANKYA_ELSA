{
 "cells": [
  {
   "cell_type": "code",
   "execution_count": 1,
   "metadata": {},
   "outputs": [],
   "source": [
    "#import necessary libraries\n",
    "import pandas as pd\n",
    "import numpy as np\n",
    "import matplotlib.pyplot as plt\n",
    "import seaborn as sns"
   ]
  },
  {
   "cell_type": "code",
   "execution_count": 2,
   "metadata": {},
   "outputs": [
    {
     "name": "stdout",
     "output_type": "stream",
     "text": [
      "   age  sex  cp  trestbps  chol  fbs  restecg  thalach  exang  oldpeak  slope  \\\n",
      "0   63    1   3       145   233    1        0      150      0      2.3      0   \n",
      "1   37    1   2       130   250    0        1      187      0      3.5      0   \n",
      "2   41    0   1       130   204    0        0      172      0      1.4      2   \n",
      "3   56    1   1       120   236    0        1      178      0      0.8      2   \n",
      "4   57    0   0       120   354    0        1      163      1      0.6      2   \n",
      "\n",
      "   ca  thal  target  \n",
      "0   0     1       1  \n",
      "1   0     2       1  \n",
      "2   0     2       1  \n",
      "3   0     2       1  \n",
      "4   0     2       1  \n"
     ]
    }
   ],
   "source": [
    "# load data set\n",
    "data = pd.read_csv(\"heart.csv\")\n",
    "\n",
    "#check if data set is loaded successfully\n",
    "print(data.head())"
   ]
  },
  {
   "cell_type": "code",
   "execution_count": 3,
   "metadata": {},
   "outputs": [
    {
     "name": "stdout",
     "output_type": "stream",
     "text": [
      "(303, 14)\n"
     ]
    }
   ],
   "source": [
    "# check what we are working with\n",
    "# inspect how big our data set is\n",
    "size_of_dataset = data.shape\n",
    "print(size_of_dataset)"
   ]
  },
  {
   "cell_type": "code",
   "execution_count": 4,
   "metadata": {},
   "outputs": [
    {
     "name": "stdout",
     "output_type": "stream",
     "text": [
      "age           int64\n",
      "sex           int64\n",
      "cp            int64\n",
      "trestbps      int64\n",
      "chol          int64\n",
      "fbs           int64\n",
      "restecg       int64\n",
      "thalach       int64\n",
      "exang         int64\n",
      "oldpeak     float64\n",
      "slope         int64\n",
      "ca            int64\n",
      "thal          int64\n",
      "target        int64\n",
      "dtype: object\n"
     ]
    }
   ],
   "source": [
    "# inspect data types\n",
    "print(data.dtypes)"
   ]
  },
  {
   "cell_type": "code",
   "execution_count": 5,
   "metadata": {},
   "outputs": [
    {
     "name": "stdout",
     "output_type": "stream",
     "text": [
      "age         0\n",
      "sex         0\n",
      "cp          0\n",
      "trestbps    0\n",
      "chol        0\n",
      "fbs         0\n",
      "restecg     0\n",
      "thalach     0\n",
      "exang       0\n",
      "oldpeak     0\n",
      "slope       0\n",
      "ca          0\n",
      "thal        0\n",
      "target      0\n",
      "dtype: int64\n"
     ]
    }
   ],
   "source": [
    "# Data cleaning and pre-processing\n",
    "# 1. check for missing values / empty cells\n",
    "empty_cells = data.isnull().sum()\n",
    "print(empty_cells)\n",
    "\n"
   ]
  },
  {
   "cell_type": "code",
   "execution_count": 6,
   "metadata": {},
   "outputs": [
    {
     "name": "stdout",
     "output_type": "stream",
     "text": [
      "1\n"
     ]
    }
   ],
   "source": [
    "# 2. Check for duplicates\n",
    "duplicates = data.duplicated().sum()\n",
    "print(duplicates)"
   ]
  },
  {
   "cell_type": "code",
   "execution_count": 7,
   "metadata": {},
   "outputs": [
    {
     "name": "stdout",
     "output_type": "stream",
     "text": [
      "     age  sex  cp  trestbps  chol  fbs  restecg  thalach  exang  oldpeak  \\\n",
      "163   38    1   2       138   175    0        1      173      0      0.0   \n",
      "164   38    1   2       138   175    0        1      173      0      0.0   \n",
      "\n",
      "     slope  ca  thal  target  \n",
      "163      2   4     2       1  \n",
      "164      2   4     2       1  \n",
      "Index([163, 164], dtype='int64')\n"
     ]
    }
   ],
   "source": [
    "# know which exact row has this dupicate\n",
    "duplicated_rows = data[data.duplicated(keep=False)]\n",
    "print(duplicated_rows)\n",
    "\n",
    "# get the duplicated rows index\n",
    "print(duplicated_rows.index)\n",
    "\n"
   ]
  },
  {
   "cell_type": "code",
   "execution_count": 8,
   "metadata": {},
   "outputs": [
    {
     "name": "stdout",
     "output_type": "stream",
     "text": [
      "None\n",
      "Number of duplicates:0\n"
     ]
    }
   ],
   "source": [
    "# Eliminate the duplicate\n",
    "eliminate_duplicates = data.drop_duplicates(keep=\"first\", inplace=True)\n",
    "\n",
    "print(eliminate_duplicates)\n",
    "\n",
    "#check for duplicates again\n",
    "new_duplicate_status = data.duplicated().sum()\n",
    "print(f\"Number of duplicates:{new_duplicate_status}\")\n",
    "\n"
   ]
  },
  {
   "cell_type": "code",
   "execution_count": 9,
   "metadata": {},
   "outputs": [
    {
     "name": "stdout",
     "output_type": "stream",
     "text": [
      "age           int64\n",
      "sex           int64\n",
      "cp            int64\n",
      "trestbps      int64\n",
      "chol          int64\n",
      "fbs           int64\n",
      "restecg       int64\n",
      "thalach       int64\n",
      "exang         int64\n",
      "oldpeak     float64\n",
      "slope         int64\n",
      "ca            int64\n",
      "thal          int64\n",
      "target        int64\n",
      "dtype: object\n"
     ]
    }
   ],
   "source": [
    "# 3. check for wrong data format (different data types) e.g 1/7/2024, 172024 or 1.4, 1.45, 1.5, 155\n",
    "# columns with wrong data types will always have an object data type except for strings because their correct data type is object.\n",
    "\n",
    "# check for data types\n",
    "print(data.dtypes)"
   ]
  },
  {
   "cell_type": "code",
   "execution_count": 12,
   "metadata": {},
   "outputs": [
    {
     "name": "stdout",
     "output_type": "stream",
     "text": [
      "{'age': [], 'sex': [], 'cp': [], 'trestbps': [], 'chol': [564], 'fbs': [], 'restecg': [], 'thalach': [], 'exang': [], 'oldpeak': [6.2], 'slope': [], 'ca': [], 'thal': [], 'target': []}\n"
     ]
    }
   ],
   "source": [
    "# 4. check for wrong data (outliers) using the z-score, z = (x - mean)/ standard deviation\n",
    "\n",
    "def detect_outliers(df):\n",
    "    outliers_dict = {}\n",
    "    threshold = 4  # Define the z-score threshold for identifying outliers\n",
    "\n",
    "    # Iterate through each column in the DataFrame\n",
    "    for column in df.columns:\n",
    "        # Check if the column is numeric\n",
    "        if pd.api.types.is_numeric_dtype(df[column]):\n",
    "            # Calculate the mean and standard deviation of the column\n",
    "            mean = np.mean(df[column])\n",
    "            std = np.std(df[column])\n",
    "            \n",
    "            # Initialize a list to hold the outliers for the current column\n",
    "            outliers = []\n",
    "\n",
    "            # Iterate through each value in the column\n",
    "            for value in df[column]:\n",
    "                # Calculate the z-score for the value\n",
    "                z_score = (value - mean) / std\n",
    "                \n",
    "                # Check if the z-score is greater than the threshold\n",
    "                if np.abs(z_score) > threshold:\n",
    "                    outliers.append(value)\n",
    "            \n",
    "            # Add the outliers to the dictionary with the column name as the key\n",
    "            outliers_dict[column] = outliers\n",
    "    \n",
    "    return outliers_dict\n",
    "\n",
    "# Call the function and print the result\n",
    "outliers = detect_outliers(data)\n",
    "print(outliers)\n"
   ]
  },
  {
   "cell_type": "code",
   "execution_count": 13,
   "metadata": {},
   "outputs": [
    {
     "name": "stdout",
     "output_type": "stream",
     "text": [
      "{'age': [], 'sex': [], 'cp': [], 'trestbps': [], 'chol': [564], 'fbs': [], 'restecg': [], 'thalach': [], 'exang': [], 'oldpeak': [6.2], 'slope': [], 'ca': [], 'thal': [], 'target': []}\n"
     ]
    },
    {
     "name": "stderr",
     "output_type": "stream",
     "text": [
      "C:\\Users\\DELL\\AppData\\Local\\Temp\\ipykernel_2520\\451719402.py:3: FutureWarning: Setting an item of incompatible dtype is deprecated and will raise an error in a future version of pandas. Value '240.5' has dtype incompatible with int64, please explicitly cast to a compatible dtype first.\n",
      "  data.loc[data['chol'] > 450, 'chol'] = median_trestbps\n"
     ]
    }
   ],
   "source": [
    "# handle outliers\n",
    "median_trestbps = data['chol'].median()\n",
    "data.loc[data['chol'] > 450, 'chol'] = median_trestbps\n",
    "print(outliers)"
   ]
  }
 ],
 "metadata": {
  "kernelspec": {
   "display_name": "Python 3",
   "language": "python",
   "name": "python3"
  },
  "language_info": {
   "codemirror_mode": {
    "name": "ipython",
    "version": 3
   },
   "file_extension": ".py",
   "mimetype": "text/x-python",
   "name": "python",
   "nbconvert_exporter": "python",
   "pygments_lexer": "ipython3",
   "version": "3.12.2"
  }
 },
 "nbformat": 4,
 "nbformat_minor": 2
}
