{
 "cells": [
  {
   "cell_type": "code",
   "execution_count": null,
   "metadata": {},
   "outputs": [],
   "source": [
    "#Machine learning\n",
    "# Types of machine learning\n",
    "# 1. Supervised learning\n",
    "# 2. unsupervised learning\n",
    "# 3. Reinforcement learning"
   ]
  },
  {
   "cell_type": "code",
   "execution_count": null,
   "metadata": {},
   "outputs": [],
   "source": [
    "# Important notes that shouldnot be missed\n",
    "# Data processing\n",
    "# Data cleaning\n",
    "# steps, check for\n",
    "# Duplicates, wrong format, wrong data, empty cell, missing data\n",
    "# wrong data, \n",
    "# age 23, 24, 24, 240, 250\n",
    "# floats 1.33, 1.44, 150, 155\n",
    "# wrong format\n",
    "# 1/7/2024, 2/7/2024, 372024, 4/7/2024\n",
    "# Handling missing data, remove/delete, Imputation, Mean/median/mode, use forward/backward filling, KNN or Regression\n",
    "#"
   ]
  },
  {
   "cell_type": "code",
   "execution_count": null,
   "metadata": {},
   "outputs": [],
   "source": [
    "# Exploratory Data Analysis\n",
    "# steps\n",
    "# Descriptive statistics\n",
    "# Measure of central tendancy, mean, median, mode\n",
    "# measure of spread: range, variance, standard deviation, iterquartile range\n",
    "# skewness, kurtosis\n",
    "# Data visualisation, Histogram distribution of a single variable, box plots-identifying outliers\n",
    "# scatter plot- examining relatioships between two variables\n",
    "# Heatmaps - "
   ]
  },
  {
   "cell_type": "code",
   "execution_count": null,
   "metadata": {},
   "outputs": [],
   "source": [
    "# Tools for data visualisation\n",
    "# Matpotlib - Line, bar, scatter and histogram\n",
    "# Seaborn, themes, color palettes, looks more attractive\n",
    "#Plotly, Bokeh"
   ]
  },
  {
   "cell_type": "code",
   "execution_count": null,
   "metadata": {},
   "outputs": [],
   "source": [
    "#Feature Engineering\n",
    "# Selection, filter like chi-aquare, ANDVA\n",
    "# wrapper recursive features\n",
    "#Embedded, Lasso regression\n",
    "\n",
    "# //Feature scaling and normalisation\n",
    "# Normalisation rescale to a range, (Age, 20-28)\n",
    "# standard deviation, transform std\n",
    "\n",
    "# create new features, polynomals, interactions"
   ]
  },
  {
   "cell_type": "code",
   "execution_count": null,
   "metadata": {},
   "outputs": [],
   "source": [
    "# Data spliting\n",
    "# Training and evaluation of a model\n",
    "# Most common ratios, 20testing, 80training, 30, 70\n",
    "# Import Sckit-learn help to split train_test_split"
   ]
  },
  {
   "cell_type": "code",
   "execution_count": null,
   "metadata": {},
   "outputs": [],
   "source": [
    "# Random state is used to shuffle data before splitting it into a training and test set.\n",
    "# Cross validation - evaluate the performance of the data, multiple folds\n",
    "# Types are, train/test we can use K-Fold cross validation \n",
    "# Stratified k-fold, ensure our distribution of the target variabe, particulary used in the imbaance datasets\n",
    "# cross validation helps in reducing variance in model performance estimates\n",
    "# provides a comprehension evaluation of model performance\n"
   ]
  },
  {
   "cell_type": "code",
   "execution_count": null,
   "metadata": {},
   "outputs": [],
   "source": [
    "# Supervised Learning Algorithm\n",
    "# 1. Regression, Linear, Polynomial\n",
    "# 2. Classification\n",
    "# Logistic regression, k-Nearest Neighbour(KNN), Support Vector Machine(SVM), Decision Trees and Random Forest\n",
    "\n",
    "# Model Evaluation\n",
    "# Matrics: Accuracy, Precision, Recall, F1-Score\n",
    "# Confusion matrix\n",
    "#AUC and ROC, Area under the curve, Receiver operating characteristics curve\n",
    "\n",
    "#Summary supervised Learning\n",
    "# Labelled data, predict output for newinputs, common Task, classification and regression\n",
    "\n",
    "# Summary unsupervised Learning\n",
    "# Unlabelled, find hidden patterns or structures in dat, common tasks like clustering, dimensionality, assocition rule learning\n",
    "\n",
    "# Definition\n",
    "# Supervised Learning: Lerning from labeled data to predict outputs for new inputs\n",
    "# Unsupervised learning: Learns from unlabeled data to indentify patterns and structures within data.\n"
   ]
  }
 ],
 "metadata": {
  "language_info": {
   "name": "python"
  }
 },
 "nbformat": 4,
 "nbformat_minor": 2
}
