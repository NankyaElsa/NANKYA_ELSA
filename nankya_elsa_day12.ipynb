{
 "cells": [
  {
   "cell_type": "code",
   "execution_count": 1,
   "metadata": {},
   "outputs": [],
   "source": [
    "# FEATURE ENGINEERING IN PYTHON"
   ]
  },
  {
   "cell_type": "code",
   "execution_count": 3,
   "metadata": {},
   "outputs": [],
   "source": [
    "#import important necessary libraries\n",
    "import pandas as pd\n",
    "from sklearn.feature_selection import SelectKBest, chi2"
   ]
  },
  {
   "cell_type": "code",
   "execution_count": null,
   "metadata": {},
   "outputs": [],
   "source": [
    "# Working on heart disease predictions\n",
    "# which ages are likely to have heart problems?"
   ]
  },
  {
   "cell_type": "code",
   "execution_count": 4,
   "metadata": {},
   "outputs": [
    {
     "name": "stdout",
     "output_type": "stream",
     "text": [
      "   age  sex  cp  trestbps  chol  fbs  restecg  thalach  exang  oldpeak  slope  \\\n",
      "0   63    1   3       145   233    1        0      150      0      2.3      0   \n",
      "1   37    1   2       130   250    0        1      187      0      3.5      0   \n",
      "2   41    0   1       130   204    0        0      172      0      1.4      2   \n",
      "3   56    1   1       120   236    0        1      178      0      0.8      2   \n",
      "4   57    0   0       120   354    0        1      163      1      0.6      2   \n",
      "\n",
      "   ca  thal  target  \n",
      "0   0     1       1  \n",
      "1   0     2       1  \n",
      "2   0     2       1  \n",
      "3   0     2       1  \n",
      "4   0     2       1  \n"
     ]
    }
   ],
   "source": [
    "# load dataset\n",
    "data = pd.read_csv(\"heart.csv\")\n",
    "\n",
    "#see that dataset is loaded successfully\n",
    "print(data.head())"
   ]
  },
  {
   "cell_type": "code",
   "execution_count": 5,
   "metadata": {},
   "outputs": [
    {
     "name": "stdout",
     "output_type": "stream",
     "text": [
      "Selected Features: Index(['age', 'sex', 'cp', 'trestbps', 'chol', 'thalach', 'exang', 'oldpeak',\n",
      "       'slope', 'ca'],\n",
      "      dtype='object')\n"
     ]
    }
   ],
   "source": [
    "# Feature engineering\n",
    "#select the top 10 features based on the chi - squared test\n",
    "\n",
    "# Feature engineering also involves renaming the columns of your data to\n",
    "# eliminate  white spaces in the column titles\n",
    "\n",
    "\n",
    "x = data.drop(\"target\", axis=1) # all columns except target\n",
    "y = data[\"target\"] # the target column\n",
    "\n",
    "selector = SelectKBest(chi2, k=10)\n",
    "x_new = selector.fit_transform(x, y)\n",
    "selected_features = x.columns[selector.get_support()]\n",
    "print(f\"Selected Features: {selected_features}\")"
   ]
  },
  {
   "cell_type": "code",
   "execution_count": null,
   "metadata": {},
   "outputs": [],
   "source": [
    "# IMPORTANT NOTES\n",
    "# Every dataset must have a target column, usually have 0s and 1s\n",
    "# sometimes titles are coded like al, a2 and then they must have a readme file which acts as a descripter for the coded titles.\n",
    "# How do we know that this column is the target column\n",
    "# most cases it is in the last column of the data set, in situations where its not, we need to analyse the data and find it\n",
    "# The target column is used for training (a)models"
   ]
  },
  {
   "cell_type": "code",
   "execution_count": null,
   "metadata": {},
   "outputs": [],
   "source": [
    "# Notes on the datasets\n",
    "# target column, is the heart diseas status, where, o = no heart disease,\n",
    "# 1 presence of heart disease\n"
   ]
  },
  {
   "cell_type": "code",
   "execution_count": 7,
   "metadata": {},
   "outputs": [],
   "source": [
    "# FEATURE SCALING AND NORMALISATION\n",
    "from sklearn.preprocessing import StandardScaler\n",
    "from sklearn.preprocessing import MinMaxScaler\n",
    "\n",
    "#Standardize the features\n",
    "scaler = StandardScaler()\n",
    "x_scaled = scaler.fit_transform(x)\n",
    "\n",
    "#Normalize the features\n",
    "scaler = MinMaxScaler()\n",
    "x_normalized = scaler.fit_transform(x)\n",
    "\n",
    "#Convert scaled featuew back to datafarme"
   ]
  }
 ],
 "metadata": {
  "kernelspec": {
   "display_name": "Python 3",
   "language": "python",
   "name": "python3"
  },
  "language_info": {
   "codemirror_mode": {
    "name": "ipython",
    "version": 3
   },
   "file_extension": ".py",
   "mimetype": "text/x-python",
   "name": "python",
   "nbconvert_exporter": "python",
   "pygments_lexer": "ipython3",
   "version": "3.12.2"
  }
 },
 "nbformat": 4,
 "nbformat_minor": 2
}
